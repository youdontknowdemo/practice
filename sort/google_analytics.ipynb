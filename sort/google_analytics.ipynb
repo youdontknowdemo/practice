{
 "cells": [
  {
   "cell_type": "code",
   "execution_count": null,
   "id": "092e64b8-9ed5-454f-b1f4-c64948d89eac",
   "metadata": {},
   "outputs": [],
   "source": [
    "%load_ext lab_black"
   ]
  },
  {
   "cell_type": "code",
   "execution_count": null,
   "id": "1b896e17-53a0-4a92-8659-2eb05dfa8159",
   "metadata": {},
   "outputs": [],
   "source": [
    "import ohawf\n",
    "from apiclient.discovery import build"
   ]
  },
  {
   "cell_type": "code",
   "execution_count": null,
   "id": "511dfb52-f096-4421-8146-0d4b42347297",
   "metadata": {},
   "outputs": [],
   "source": [
    "creds = ohawf.get(pkl=\"creds/zdauddev.pkl\")"
   ]
  },
  {
   "cell_type": "code",
   "execution_count": null,
   "id": "f693b39f-ff38-451f-bf40-4214cceb8a6c",
   "metadata": {},
   "outputs": [],
   "source": [
    "service = build('analytics', 'v3', credentials=creds)"
   ]
  },
  {
   "cell_type": "code",
   "execution_count": null,
   "id": "ac3f7335-8490-423a-b5ed-add17831abb7",
   "metadata": {},
   "outputs": [],
   "source": [
    "accounts = service.management().accounts().list().execute()"
   ]
  },
  {
   "cell_type": "code",
   "execution_count": null,
   "id": "afe73a25-9c96-4472-a506-d794a6617f49",
   "metadata": {},
   "outputs": [],
   "source": [
    "for adict in accounts[\"items\"]:\n",
    "    print(f\"Name: {adict['name']}\")\n",
    "    print(f\"ID: {adict['id']}\")\n",
    "    print()"
   ]
  },
  {
   "cell_type": "code",
   "execution_count": null,
   "id": "35b4a655-6303-4bd8-a84b-f19976042dc5",
   "metadata": {},
   "outputs": [],
   "source": [
    "# Say you had a file with the Profile IDs you want metrics for:\n",
    "with open(\"profiles.txt\") as fh:\n",
    "    profiles = [x.strip() for x in fh.readlines()]"
   ]
  },
  {
   "cell_type": "code",
   "execution_count": null,
   "id": "42bae4e5-6849-4b65-a575-f52e8a58eb1c",
   "metadata": {},
   "outputs": [],
   "source": [
    "start_date = \"2022-01-01\"\n",
    "end_date = \"2022-12-31\""
   ]
  },
  {
   "cell_type": "code",
   "execution_count": null,
   "id": "acdc274d-704c-4a29-8622-39e764d4646d",
   "metadata": {},
   "outputs": [],
   "source": [
    "from collections import namedtuple\n",
    "from sqlitedict import SqliteDict as sqldict"
   ]
  },
  {
   "cell_type": "code",
   "execution_count": null,
   "id": "2d7518ba-7f86-4b5f-b081-06b37770f74f",
   "metadata": {},
   "outputs": [],
   "source": [
    "# Use the arguments for your API also as dict keys\n",
    "Args = namedtuple(\"Args\", \"profile, npt\")"
   ]
  },
  {
   "cell_type": "code",
   "execution_count": null,
   "id": "937e6ddf-214b-46ee-b82a-7f079cb85598",
   "metadata": {},
   "outputs": [],
   "source": [
    "# Create the keys for uncollected data\n",
    "\n",
    "with sqldict(\"ga.db\") as db:\n",
    "    for profile in profiles:\n",
    "        profile = int(profile)\n",
    "        for npt in range(1, 50001, 10000):\n",
    "            arg = Args(profile, npt)\n",
    "            if str(arg) not in db:\n",
    "                print(arg)\n",
    "                db[str(arg)] = None\n",
    "        db.commit()"
   ]
  },
  {
   "cell_type": "code",
   "execution_count": null,
   "id": "661ca161-bd76-4ada-af44-80d3ef76379f",
   "metadata": {},
   "outputs": [],
   "source": [
    "# Function that hits the Google Analytics V3 API\n",
    "def ga(profile, npt):\n",
    "    return (\n",
    "        service.data()\n",
    "        .ga()\n",
    "        .get(\n",
    "            ids=f\"ga:{profile}\",\n",
    "            start_date=start_date,\n",
    "            end_date=end_date,\n",
    "            dimensions=\"ga:landingPagePath\",\n",
    "            segment=\"gaid::-5\",\n",
    "            metrics=\"ga:users,ga:newusers,ga:sessions,ga:bouncerate,ga:pageviewsPerSession,ga:avgSessionDuration\",\n",
    "            sort=\"-ga:sessions\",\n",
    "            # filters=\"ga:medium==organic\",\n",
    "            start_index=f\"{npt}\",\n",
    "            max_results=\"10000\",\n",
    "        )\n",
    "        .execute()\n",
    "    )"
   ]
  },
  {
   "cell_type": "code",
   "execution_count": null,
   "id": "42b306b5-b180-4127-bea8-a62c269b4d82",
   "metadata": {},
   "outputs": [],
   "source": [
    "# Collect raw data into database\n",
    "with sqldict(\"ga.db\") as db:\n",
    "    for key in db:\n",
    "        tkey = eval(key)\n",
    "        profile, npt = tkey\n",
    "        data = db[key]\n",
    "        if data == None:\n",
    "            print(f\"Hitting API for profile: {profile} npt: {npt}\")\n",
    "            response = ga(profile, npt)\n",
    "            db[key] = response\n",
    "            db.commit()\n",
    "            sleep(10)"
   ]
  },
  {
   "cell_type": "code",
   "execution_count": null,
   "id": "4cce5221-d597-4a08-bc5f-950c1f23639c",
   "metadata": {},
   "outputs": [],
   "source": []
  },
  {
   "cell_type": "code",
   "execution_count": null,
   "id": "0284b9d8-befb-42b2-8f6a-36ff91a6da76",
   "metadata": {},
   "outputs": [],
   "source": []
  }
 ],
 "metadata": {
  "kernelspec": {
   "display_name": "Python 3 (ipykernel)",
   "language": "python",
   "name": "python3"
  },
  "language_info": {
   "codemirror_mode": {
    "name": "ipython",
    "version": 3
   },
   "file_extension": ".py",
   "mimetype": "text/x-python",
   "name": "python",
   "nbconvert_exporter": "python",
   "pygments_lexer": "ipython3"
  }
 },
 "nbformat": 4,
 "nbformat_minor": 5
}
