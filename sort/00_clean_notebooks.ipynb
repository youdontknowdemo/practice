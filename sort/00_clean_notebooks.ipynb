{
 "cells": [
  {
   "cell_type": "markdown",
   "id": "18f714f0-adca-42a4-93e9-9ba02a64ea49",
   "metadata": {},
   "source": [
    "# There's Nothing to See Here\n",
    "\n",
    "Please move onto 10_hello_world.ipynb"
   ]
  },
  {
   "cell_type": "code",
   "execution_count": null,
   "id": "a1b7bf56-5c69-48e1-b78f-a5c4892a2131",
   "metadata": {},
   "outputs": [],
   "source": [
    "%load_ext lab_black"
   ]
  },
  {
   "cell_type": "code",
   "execution_count": null,
   "id": "3a4347a0-b853-4637-9fb8-6e95f29d40bc",
   "metadata": {},
   "outputs": [],
   "source": [
    "from os import getcwd\n",
    "from shlex import split\n",
    "from pathlib import Path\n",
    "from subprocess import call"
   ]
  },
  {
   "cell_type": "code",
   "execution_count": null,
   "id": "bcfee37e-3402-4c34-9e26-b15b0450c6cf",
   "metadata": {},
   "outputs": [],
   "source": [
    "for notebook in Path().glob(\"*.ipynb\"):\n",
    "    command = f\"/home/ubuntu/py311/bin/nb-clean clean {getcwd()}/{notebook}\"\n",
    "    print(command)\n",
    "    print(call(split(command)))\n",
    "print(\"Done\")"
   ]
  },
  {
   "cell_type": "code",
   "execution_count": null,
   "id": "83910c55-750f-4e69-91fd-cdc624bc019a",
   "metadata": {},
   "outputs": [],
   "source": []
  }
 ],
 "metadata": {
  "kernelspec": {
   "display_name": "Python 3 (ipykernel)",
   "language": "python",
   "name": "python3"
  },
  "language_info": {
   "codemirror_mode": {
    "name": "ipython",
    "version": 3
   },
   "file_extension": ".py",
   "mimetype": "text/x-python",
   "name": "python",
   "nbconvert_exporter": "python",
   "pygments_lexer": "ipython3"
  }
 },
 "nbformat": 4,
 "nbformat_minor": 5
}
