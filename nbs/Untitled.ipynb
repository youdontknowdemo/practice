{
 "cells": [
  {
   "cell_type": "code",
   "execution_count": null,
   "id": "93b9eca4-b472-478b-b90d-2a9a94c384ec",
   "metadata": {},
   "outputs": [],
   "source": [
    "DATA_DIR = \"../data/\"\n",
    "load_from = DATA_DIR + \"pull_keywords.txt\""
   ]
  },
  {
   "cell_type": "code",
   "execution_count": null,
   "id": "23719c65-d54b-466a-ae03-f796015c5b28",
   "metadata": {},
   "outputs": [],
   "source": [
    "with open(load_from) as fh:\n",
    "    for line in fh.readlines():\n",
    "        print(line.strip())"
   ]
  },
  {
   "cell_type": "code",
   "execution_count": null,
   "id": "b4b94941-5142-4c1c-aa27-1852aced7eba",
   "metadata": {},
   "outputs": [],
   "source": []
  }
 ],
 "metadata": {
  "kernelspec": {
   "display_name": "Python 3 (ipykernel)",
   "language": "python",
   "name": "python3"
  },
  "language_info": {
   "codemirror_mode": {
    "name": "ipython",
    "version": 3
   },
   "file_extension": ".py",
   "mimetype": "text/x-python",
   "name": "python",
   "nbconvert_exporter": "python",
   "pygments_lexer": "ipython3"
  }
 },
 "nbformat": 4,
 "nbformat_minor": 5
}
