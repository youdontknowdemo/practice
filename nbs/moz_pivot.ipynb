{
 "cells": [
  {
   "cell_type": "code",
   "execution_count": null,
   "id": "96ade9c9-bf16-4dba-9ae0-24ca2a3e17fe",
   "metadata": {},
   "outputs": [],
   "source": [
    "%load_ext nb_black"
   ]
  },
  {
   "cell_type": "code",
   "execution_count": null,
   "id": "6b833521-d30c-44c1-a06c-3803a5664137",
   "metadata": {},
   "outputs": [],
   "source": [
    "from pathlib import Path\n",
    "import pandas as pd\n",
    "import numpy as np\n",
    "\n",
    "\n",
    "# Configuration and CONATANTS\n",
    "pd.set_option(\"display.width\", 1000)\n",
    "pd.set_option(\"display.max_columns\", 999)\n",
    "DATADIR = \"../data/moz/\"\n",
    "COLUMNS = ['Keyword', 'Min Monthly Volume', 'Max Monthly Volume', \n",
    "           'Specific Monthly Volume', 'Difficulty', 'Top Rank', \n",
    "           'Top Ranking URL', 'Site']\n",
    "\n",
    "# Load all the MOZ keyword data CSVs into one giant datatframe.\n",
    "dfs = []\n",
    "for i, file in enumerate(Path(DATADIR).glob(\"moz_*.csv\")):\n",
    "    site = file.name.split(\"_\")[1]\n",
    "    df = pd.read_csv(file)\n",
    "    df['Site'] = site\n",
    "    df.columns = COLUMNS\n",
    "    dfs.append(df)\n",
    "df = pd.concat(dfs)\n",
    "\n",
    "# replace non-finite values with NaN\n",
    "df.replace([np.inf, -np.inf], np.nan, inplace=True)\n",
    "df.dropna(inplace=True)\n",
    "df[\"Specific Monthly Volume\"] = df[\"Specific Monthly Volume\"].astype(int)\n",
    "df[\"Top Rank\"] = df[\"Top Rank\"].astype(int)\n",
    "\n",
    "# Sort descending by volume & reset index\n",
    "df.sort_values(by=\"Specific Monthly Volume\", ascending=False, inplace=True)\n",
    "df.reset_index(drop=True, inplace=True)\n",
    "\n",
    "# Create a pivot-table dataframe\n",
    "df_pivot = pd.pivot_table(\n",
    "        df,\n",
    "        index=[\"Keyword\"],\n",
    "        columns=[\"Site\"],\n",
    "        values=[\"Top Rank\"],\n",
    "        aggfunc=[\"min\"],\n",
    "    ) #.reset_index(level=None)\n",
    "\n",
    "# Set the index of the orinal df and the new df_pivot to Keyword\n",
    "df.set_index(\"Keyword\", inplace=True)\n",
    "df_pivot = df_pivot.reset_index().set_index(\"Keyword\")\n",
    "df_pivot.columns = df_pivot.columns.droplevel().droplevel()\n",
    "\n",
    "# Join the tables, sort desc by volume and drop dupes\n",
    "df2 = df.join(df_pivot)\n",
    "df2 = df2.sort_values(by=\"Specific Monthly Volume\", ascending=False)\n",
    "df2 = df2.reset_index().drop_duplicates(subset=\"Keyword\", keep=\"first\")\n",
    "\n",
    "# Clean up the numbers in the Top Rank cells\n",
    "df2.fillna(\"0\", inplace=True)\n",
    "for site in df2.columns[8:]:\n",
    "    df2[site] = df2[site].astype(int)\n",
    "for site in df2.columns[8:]:\n",
    "    df2[site] = df2[site].replace(0, \"\")\n",
    "\n",
    "# Get rid of unnecessary columns and turn Keyword into index\n",
    "df2.drop(\"Min Monthly Volume\", axis=1, inplace=True)\n",
    "df2.drop(\"Max Monthly Volume\", axis=1, inplace=True)\n",
    "df2.drop(\"Top Ranking URL\", axis=1, inplace=True)\n",
    "df2.drop(\"Site\", axis=1, inplace=True)\n",
    "df2.set_index(\"Keyword\", inplace=True)\n",
    "\n",
    "# Save to Excel (without nuking the system)\n",
    "df2 = df2[df2[\"Specific Monthly Volume\"] >= 1000]\n",
    "out_file = f\"{DATADIR}/gap_analysis.xlsx\"\n",
    "writer = pd.ExcelWriter(out_file, engine='xlsxwriter')\n",
    "df2.to_excel(writer)\n",
    "writer.close()\n",
    "print(\"Done\")"
   ]
  },
  {
   "cell_type": "markdown",
   "id": "1b7fd1a5-380a-4e0e-a1d9-6b827576210d",
   "metadata": {},
   "source": [
    "# "
   ]
  },
  {
   "cell_type": "code",
   "execution_count": null,
   "id": "b730acba-c8a8-42d2-823c-8c2dcf49c49d",
   "metadata": {},
   "outputs": [],
   "source": []
  }
 ],
 "metadata": {
  "kernelspec": {
   "display_name": "Python 3 (ipykernel)",
   "language": "python",
   "name": "python3"
  },
  "language_info": {
   "codemirror_mode": {
    "name": "ipython",
    "version": 3
   },
   "file_extension": ".py",
   "mimetype": "text/x-python",
   "name": "python",
   "nbconvert_exporter": "python",
   "pygments_lexer": "ipython3"
  }
 },
 "nbformat": 4,
 "nbformat_minor": 5
}
