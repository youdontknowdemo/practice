{
 "cells": [
  {
   "cell_type": "code",
   "execution_count": null,
   "id": "1779928d-5edf-428f-a2a2-a151aa894f6c",
   "metadata": {},
   "outputs": [],
   "source": [
    "from collections import namedtuple\n",
    "from sqlitedict import SqliteDict as sqldict\n",
    "from datetime import date, datetime, timedelta\n",
    "\n",
    "# Calculate the most recent full week\n",
    "today = date.today()\n",
    "weekday = today.weekday()\n",
    "days_to_sunday = 6 - weekday\n",
    "end_date = today - timedelta(days=days_to_sunday)\n",
    "\n",
    "# Calculate closest week-start near start date\n",
    "start_date = date(1970, 8, 27)  # Happy Birthday to Me! Change to yours.\n",
    "weekday = start_date.weekday()\n",
    "days_to_sunday = 6 - weekday\n",
    "start_date = start_date - timedelta(days=days_to_sunday)\n",
    "\n",
    "print(f\"Dates: {start_date} to {end_date}\")\n",
    "\n",
    "# Calculate number of days\n",
    "num_days = (end_date - start_date).days + 1\n",
    "print(f\"Number of days: {num_days}\")\n",
    "\n",
    "Week = namedtuple(\"Week\", \"id, start\")\n",
    "\n",
    "# Give each week a fixed ID\n",
    "show_date = start_date\n",
    "table_mori = []\n",
    " \n",
    "for i in range(num_days):\n",
    "    # print(i, show_date)\n",
    "    table_mori.append((Week(i, f\"{show_date}\")))\n",
    "    show_date = show_date + timedelta(days=7)\n",
    "    if show_date > end_date:\n",
    "        break\n",
    "\n",
    "# Plug api-parameters as keys into database\n",
    "with sqldict(\"weeks.db\") as db:\n",
    "    for week in table_mori:\n",
    "        db[str(week)] = None\n",
    "    db.commit()\n",
    "print(\"Done\")"
   ]
  },
  {
   "cell_type": "code",
   "execution_count": null,
   "id": "201aa11d-a81f-447c-b3bd-60ba17ac3201",
   "metadata": {},
   "outputs": [],
   "source": [
    "# You could look at all 5200 tuple keys...\n",
    "with sqldict(\"weeks.db\") as db:\n",
    "    for key in db:\n",
    "        break"
   ]
  },
  {
   "cell_type": "code",
   "execution_count": null,
   "id": "bf23bd29-a42c-48a1-8b74-581408f64029",
   "metadata": {},
   "outputs": [],
   "source": [
    "key"
   ]
  },
  {
   "cell_type": "code",
   "execution_count": null,
   "id": "8d9c6803-4c9a-40f1-a9b9-3ef1979a3a0f",
   "metadata": {},
   "outputs": [],
   "source": [
    "# This setps through the keys, turning them back into namedtuples and date datetypes\n",
    "# so we can stop when we reach this week. \n",
    "\n",
    "today = datetime.now().date()\n",
    "print(f\"Today is {today}.\")\n",
    "print(\"Hey look, you were just born.\")\n",
    "\n",
    "with sqldict(\"weeks.db\") as db:\n",
    "    for i, strweek in enumerate(db):\n",
    "        week = eval(strweek)\n",
    "        adate = datetime.strptime(week.start, \"%Y-%m-%d\").date()\n",
    "        print(i, adate)\n",
    "        # We could load the data one of two different ways.\n",
    "        # data = db[str(Week(i, f\"{adate}\"))]\n",
    "        # data = db[strweek]\n",
    "        if week > today:\n",
    "            break\n",
    "print(\"And that brings us to this week.\")"
   ]
  },
  {
   "cell_type": "code",
   "execution_count": null,
   "id": "2caa2023-24ea-4d6d-86a8-b86b66a87e86",
   "metadata": {},
   "outputs": [],
   "source": [
    "print(f\"You are {i + 1:,} weeks old.\")"
   ]
  },
  {
   "cell_type": "raw",
   "id": "def65220-8a79-449b-822a-3d8f0216f1d6",
   "metadata": {},
   "source": [
    "Make sure you set your own birthday above. You'll get 5,200 tuples, as if plannnig out your lifetime as a job. Every week in a 100-year life is one of 5,200 tuples. "
   ]
  },
  {
   "cell_type": "code",
   "execution_count": null,
   "id": "a1f1224e-707d-44b5-9382-57e90e50f0a2",
   "metadata": {},
   "outputs": [],
   "source": [
    "key"
   ]
  },
  {
   "cell_type": "code",
   "execution_count": null,
   "id": "9be9a27b-3c0f-4228-b126-cc13458f862b",
   "metadata": {},
   "outputs": [],
   "source": [
    "import time\n",
    "\n",
    "def get_week_number(timestamp):\n",
    "    # Calculate the number of seconds since the epoch\n",
    "    seconds = timestamp - time.mktime(time.strptime('1970-01-01', '%Y-%m-%d'))\n",
    "    # Calculate the number of weeks from the epoch\n",
    "    weeks = int(seconds / (7 * 24 * 60 * 60))\n",
    "    return weeks\n",
    "\n",
    "current_timestamp = time.time()\n",
    "current_week_number = get_week_number(current_timestamp)\n",
    "current_week_number"
   ]
  },
  {
   "cell_type": "code",
   "execution_count": null,
   "id": "625d6b7f-e17a-4d2b-8438-bca50088f2f4",
   "metadata": {},
   "outputs": [],
   "source": []
  }
 ],
 "metadata": {
  "kernelspec": {
   "display_name": "Python 3 (ipykernel)",
   "language": "python",
   "name": "python3"
  },
  "language_info": {
   "codemirror_mode": {
    "name": "ipython",
    "version": 3
   },
   "file_extension": ".py",
   "mimetype": "text/x-python",
   "name": "python",
   "nbconvert_exporter": "python",
   "pygments_lexer": "ipython3"
  }
 },
 "nbformat": 4,
 "nbformat_minor": 5
}
