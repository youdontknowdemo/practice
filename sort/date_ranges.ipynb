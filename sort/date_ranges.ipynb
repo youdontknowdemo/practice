{
 "cells": [
  {
   "cell_type": "code",
   "execution_count": null,
   "id": "164b874c-90db-44e9-b9fb-0f2eed65626c",
   "metadata": {},
   "outputs": [],
   "source": [
    "%load_ext lab_black"
   ]
  },
  {
   "cell_type": "code",
   "execution_count": null,
   "id": "685c0a8f-2616-4ad7-b198-e17b859a0848",
   "metadata": {},
   "outputs": [],
   "source": [
    "from datetime import datetime\n",
    "from dateutil.relativedelta import relativedelta as rd\n",
    "\n",
    "# Pick your API's date format\n",
    "patterns = [\"%Y-%m-%d\", \"%d-%m-%Y\", \"%Y/%m/%d\", \"%d/%m/%Y\"]\n",
    "pattern = patterns[0]\n",
    "\n",
    "# Typical month ranges for GA APIs\n",
    "months_back = 16\n",
    "table = []\n",
    "for x in range(months_back):\n",
    "    start_date = datetime.now().date().replace(day=1) - rd(months=x)\n",
    "    end_date = start_date + rd(months=1) - rd(days=1)\n",
    "    start_date = start_date.strftime(pattern)\n",
    "    end_date = end_date.strftime(pattern)\n",
    "    table.append((start_date, end_date))\n",
    "\n",
    "for timetuple in table:\n",
    "    print(timetuple)"
   ]
  },
  {
   "cell_type": "code",
   "execution_count": null,
   "id": "8109ec2e-a8a5-4faa-801e-24ede62bdac6",
   "metadata": {},
   "outputs": [],
   "source": []
  }
 ],
 "metadata": {
  "kernelspec": {
   "display_name": "Python 3 (ipykernel)",
   "language": "python",
   "name": "python3"
  },
  "language_info": {
   "codemirror_mode": {
    "name": "ipython",
    "version": 3
   },
   "file_extension": ".py",
   "mimetype": "text/x-python",
   "name": "python",
   "nbconvert_exporter": "python",
   "pygments_lexer": "ipython3"
  }
 },
 "nbformat": 4,
 "nbformat_minor": 5
}
