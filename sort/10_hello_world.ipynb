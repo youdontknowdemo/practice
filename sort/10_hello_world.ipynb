{
 "cells": [
  {
   "cell_type": "markdown",
   "id": "5f59adcd-7e64-47b3-9312-94e272765dee",
   "metadata": {},
   "source": [
    "# You're Really on Linux\n",
    "\n",
    "This 10_hello_world.ipynb file is designed to show you just how easy it is to run Python, and not only a latest, greatest version, but the Linux one as well. That mans stuff you do here will translate well to other computers, often servers running without attendance except for the occasional login to update scheduled scripts. That's the goal here. But we start out with this.\n",
    "\n",
    "The first line:\n",
    "\n",
    "    %load_ext lab_black\n",
    "\n",
    "...loads an external extension that enforces good coding style. It won't be in effect unless you run that cell, which is optional. If you like your software enforcing a certain strict coding-style, run it. If not, jump ahead and run the cell that contains:\n",
    "\n",
    "    \"Hello World\"\n",
    "    \n",
    "...which must be one of the simplest ***Hello World*** programs in existence. You can see what drives the popularity of Jupyter."
   ]
  },
  {
   "cell_type": "code",
   "execution_count": null,
   "id": "ac9a6b07-c53a-41a7-8be8-e840831f594b",
   "metadata": {},
   "outputs": [],
   "source": [
    "%load_ext lab_black"
   ]
  },
  {
   "cell_type": "code",
   "execution_count": null,
   "id": "b92a9e71-200a-4eaa-987f-0374caef0470",
   "metadata": {},
   "outputs": [],
   "source": [
    "\"Hello World\""
   ]
  },
  {
   "cell_type": "code",
   "execution_count": null,
   "id": "4d4c8eaa-14ca-48f7-a2a8-3741c404f5d6",
   "metadata": {},
   "outputs": [],
   "source": [
    "# The above example uses a Jupyter feature that prints whatever\n",
    "# is on the last line of the cell. To do it with proper Python:\n",
    "\n",
    "print(\"Hello World\")"
   ]
  },
  {
   "cell_type": "code",
   "execution_count": null,
   "id": "1b5f3317-0323-4e24-b9cb-a2265461c70c",
   "metadata": {},
   "outputs": [],
   "source": [
    "hello = \"Hello World\"  # You can also use a variable"
   ]
  },
  {
   "cell_type": "code",
   "execution_count": null,
   "id": "bc2ad13f-3dcf-43c8-a350-3aff2f9eaebe",
   "metadata": {},
   "outputs": [],
   "source": [
    "hello"
   ]
  },
  {
   "cell_type": "code",
   "execution_count": null,
   "id": "914e21af-c972-42dd-907a-6d4473f58ace",
   "metadata": {},
   "outputs": [],
   "source": [
    "import sys  # Has stuff about the system."
   ]
  },
  {
   "cell_type": "code",
   "execution_count": null,
   "id": "96e2effa-0ece-4a48-a2e3-b1aa280f64ac",
   "metadata": {},
   "outputs": [],
   "source": [
    "sys.version  # Show our version of Python"
   ]
  },
  {
   "cell_type": "code",
   "execution_count": null,
   "id": "1bf8e850-1269-40db-889a-40320c578b70",
   "metadata": {},
   "outputs": [],
   "source": [
    "sys.executable  # Show where the Python executable file is."
   ]
  },
  {
   "cell_type": "code",
   "execution_count": null,
   "id": "b855a029-4121-439a-b923-74fa8ac021c3",
   "metadata": {},
   "outputs": [],
   "source": [
    "import os  # Has stuff about the Operating System"
   ]
  },
  {
   "cell_type": "code",
   "execution_count": null,
   "id": "5f961464-c523-4baa-8f69-11f9532f1f4d",
   "metadata": {},
   "outputs": [],
   "source": [
    "os.name  # Show the OS Name"
   ]
  },
  {
   "cell_type": "code",
   "execution_count": null,
   "id": "b32fa604-d09d-44d0-bea3-510174485855",
   "metadata": {},
   "outputs": [],
   "source": [
    "import this  # Give a bit of Pythonic insight right up front"
   ]
  },
  {
   "cell_type": "code",
   "execution_count": null,
   "id": "6fc5f8a5-c9c6-4edd-946d-0c0c8932c64e",
   "metadata": {},
   "outputs": [],
   "source": [
    "dir(this)"
   ]
  },
  {
   "cell_type": "code",
   "execution_count": null,
   "id": "4bcb09ea-9e7d-40be-a663-8ab23589afdd",
   "metadata": {},
   "outputs": [],
   "source": [
    "print(this.s)  # Display a Python Easter Egg"
   ]
  },
  {
   "cell_type": "code",
   "execution_count": null,
   "id": "1976d726-dbf7-41e4-8bba-d6ba584c0ed1",
   "metadata": {},
   "outputs": [],
   "source": [
    "# Respond to the Easter Egg\n",
    "import codecs\n",
    "\n",
    "for line in codecs.encode(this.s, \"rot13\").split(\"\\n\"):\n",
    "    print(line)"
   ]
  },
  {
   "cell_type": "markdown",
   "id": "2126d170-a18c-4078-8d14-fe82ed00a8d7",
   "metadata": {},
   "source": [
    "# Now I Ask You\n",
    "\n",
    "> Does gratuitously rot13 encoding the data in the ***this*** library really abide by the 3rd point: Simple is better than complex? "
   ]
  },
  {
   "cell_type": "code",
   "execution_count": null,
   "id": "e84524d9-56fc-48d3-adeb-8fbb845a054d",
   "metadata": {},
   "outputs": [],
   "source": []
  }
 ],
 "metadata": {
  "kernelspec": {
   "display_name": "Python 3 (ipykernel)",
   "language": "python",
   "name": "python3"
  },
  "language_info": {
   "codemirror_mode": {
    "name": "ipython",
    "version": 3
   },
   "file_extension": ".py",
   "mimetype": "text/x-python",
   "name": "python",
   "nbconvert_exporter": "python",
   "pygments_lexer": "ipython3"
  }
 },
 "nbformat": 4,
 "nbformat_minor": 5
}
