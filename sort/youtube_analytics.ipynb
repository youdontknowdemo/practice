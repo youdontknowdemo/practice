{
 "cells": [
  {
   "cell_type": "code",
   "execution_count": null,
   "id": "afa32fd3-8061-4682-a4d3-f614d5c0f0c7",
   "metadata": {},
   "outputs": [],
   "source": [
    "%load_ext lab_black"
   ]
  },
  {
   "cell_type": "code",
   "execution_count": null,
   "id": "73bbefe1-41c3-4646-9edf-ba8823dcdf78",
   "metadata": {},
   "outputs": [],
   "source": [
    "import ohawf\n",
    "from googleapiclient.discovery import build\n",
    "\n",
    "creds = ohawf.get()"
   ]
  },
  {
   "cell_type": "code",
   "execution_count": null,
   "id": "d9fd4df6-c3f2-46dc-ab62-4c9adb967405",
   "metadata": {},
   "outputs": [],
   "source": [
    "service = build(\"youtubeAnalytics\", \"v2\", credentials=creds)\n",
    "\n",
    "result = (\n",
    "    service.reports()\n",
    "    .query(\n",
    "        **{\n",
    "            \"dimensions\": \"day\",\n",
    "            \"endDate\": \"2022-12-31\",\n",
    "            \"ids\": \"channel==MINE\",\n",
    "            \"metrics\": \"views\",\n",
    "            \"sort\": \"day\",\n",
    "            \"startDate\": \"2022-01-01\",\n",
    "        }\n",
    "    )\n",
    "    .execute()\n",
    ")\n",
    "print(result)"
   ]
  },
  {
   "cell_type": "code",
   "execution_count": null,
   "id": "ec30eae6-0be2-42b7-8d5e-60c803acf265",
   "metadata": {},
   "outputs": [],
   "source": []
  }
 ],
 "metadata": {
  "kernelspec": {
   "display_name": "Python 3 (ipykernel)",
   "language": "python",
   "name": "python3"
  },
  "language_info": {
   "codemirror_mode": {
    "name": "ipython",
    "version": 3
   },
   "file_extension": ".py",
   "mimetype": "text/x-python",
   "name": "python",
   "nbconvert_exporter": "python",
   "pygments_lexer": "ipython3"
  }
 },
 "nbformat": 4,
 "nbformat_minor": 5
}
