{
 "cells": [
  {
   "cell_type": "code",
   "execution_count": null,
   "id": "711d2890-aa9a-448e-ab0e-06de9e7f94ed",
   "metadata": {},
   "outputs": [],
   "source": [
    "%load_ext lab_black"
   ]
  },
  {
   "cell_type": "code",
   "execution_count": null,
   "id": "e0e5e20f-03f1-431b-9f8a-2c6eda81cb49",
   "metadata": {},
   "outputs": [],
   "source": [
    "from os import scandir\n",
    "\n",
    "# 10 to the power of 7 is ~10 MB\n",
    "size_limit = 10**7\n",
    "\n",
    "def get_tree_size(path):\n",
    "    total = 0\n",
    "    for entry in scandir(path):\n",
    "        if entry.is_dir(follow_symlinks=False):\n",
    "            try:\n",
    "                total += get_tree_size(entry.path)\n",
    "            except:\n",
    "                continue\n",
    "        else:\n",
    "            try:\n",
    "                found = entry.stat(follow_symlinks=False)\n",
    "            except:\n",
    "                continue\n",
    "            name = entry.name\n",
    "            size = found.st_size\n",
    "            if size > size_limit:\n",
    "                path = entry.path\n",
    "                parts = path.split(\"/\")\n",
    "                path = \"/\".join(parts[:-1]) + \"/\"\n",
    "                print(f\"{path}\")\n",
    "                print(f\"{name}\")\n",
    "                print(f\"{size:,} Bytes\")\n",
    "                print()\n",
    "            total += found.st_size\n",
    "    return total\n",
    "\n",
    "get_tree_size(\"/mnt/c\")\n",
    "print(\"Done\")"
   ]
  },
  {
   "cell_type": "code",
   "execution_count": null,
   "id": "d461f862-af67-4513-bf2f-659c09957ef0",
   "metadata": {},
   "outputs": [],
   "source": []
  }
 ],
 "metadata": {
  "kernelspec": {
   "display_name": "Python 3 (ipykernel)",
   "language": "python",
   "name": "python3"
  },
  "language_info": {
   "codemirror_mode": {
    "name": "ipython",
    "version": 3
   },
   "file_extension": ".py",
   "mimetype": "text/x-python",
   "name": "python",
   "nbconvert_exporter": "python",
   "pygments_lexer": "ipython3",
   "version": "3.11.2"
  }
 },
 "nbformat": 4,
 "nbformat_minor": 5
}
