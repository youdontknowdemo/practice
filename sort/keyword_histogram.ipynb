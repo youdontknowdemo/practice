{
 "cells": [
  {
   "cell_type": "code",
   "execution_count": null,
   "id": "2f275d35-a23d-408b-a9b3-c12de52a7de1",
   "metadata": {},
   "outputs": [],
   "source": [
    "%load_ext lab_black"
   ]
  },
  {
   "cell_type": "code",
   "execution_count": null,
   "id": "a9dc1728-65cb-45d3-8e0f-722dc894a523",
   "metadata": {},
   "outputs": [],
   "source": [
    "import re\n",
    "import nltk\n",
    "from urllib.parse import urlparse\n",
    "from yake import KeywordExtractor\n",
    "from nltk.corpus import stopwords\n",
    "from nltk.stem import PorterStemmer\n",
    "from bs4 import BeautifulSoup as bsoup\n",
    "from sqlitedict import SqliteDict as sqldict"
   ]
  },
  {
   "cell_type": "code",
   "execution_count": null,
   "id": "5810bb03-1997-466f-b93d-9d774fa4ead6",
   "metadata": {},
   "outputs": [],
   "source": [
    "data_folder = \"crawl\"\n",
    "responsedb = f\"{data_folder}/responses.db\"\n",
    "kw_histdb = f\"{data_folder}/kw_hist.db\"\n",
    "\n",
    "pstem = PorterStemmer()\n",
    "\n",
    "# nltk.download(\"punkt\")\n",
    "nltk.download(\"stopwords\")\n",
    "stop_words = stopwords.words(\"english\")\n",
    "\n",
    "kwx = KeywordExtractor(lan=\"en\", n=3, dedupLim=0.75, top=20, features=None)"
   ]
  },
  {
   "cell_type": "code",
   "execution_count": null,
   "id": "c51d00f5-79a3-40e9-a81d-cbe7543d4dff",
   "metadata": {},
   "outputs": [],
   "source": [
    "# Edit this to diminish influence of site name, etc.\n",
    "more_stop_words = [\"mike\", \"levin\", \"lpvg\", \"seo\", \"future-proof\"]\n",
    "stop_words = stop_words + more_stop_words"
   ]
  },
  {
   "cell_type": "code",
   "execution_count": null,
   "id": "7567c239-2c73-4e0e-a559-46f2408880e1",
   "metadata": {},
   "outputs": [],
   "source": [
    "with sqldict(responsedb) as db:\n",
    "    with sqldict(kw_histdb) as db2:\n",
    "        for i, url in enumerate(db):\n",
    "            response = db[url]\n",
    "            html = response.text\n",
    "            text = bsoup(html, features=\"html.parser\").get_text(\n",
    "                separator=\" \", strip=True\n",
    "            )\n",
    "            try:\n",
    "                title = text.title.string.strip()\n",
    "            except:\n",
    "                title = None\n",
    "            try:\n",
    "                descr = text.find(\"meta\", attrs={\"name\": \"description\"}).attrs[\n",
    "                    \"content\"\n",
    "                ]\n",
    "            except:\n",
    "                descr = None\n",
    "            parts = urlparse(url)\n",
    "            urlkws = re.split(\"\\W+\", parts.path)\n",
    "            urlkws = \" \".join([x for x in urlkws if x and not x.isnumeric()])\n",
    "            text = \" \".join([x for x in [title, urlkws, descr, text] if x])\n",
    "            stripped = re.sub(r\"[^ -~]\", \" \", text)\n",
    "            stripped = re.sub(\" +\", \" \", stripped)\n",
    "            stemmed = pstem.stem(stripped)\n",
    "            stemmed = \" \".join([x for x in stemmed.split() if x not in stop_words])\n",
    "            keywords = kwx.extract_keywords(stemmed)\n",
    "            db2[url] = (keywords, stemmed)\n",
    "            db2.commit()\n",
    "print(\"Done\")"
   ]
  },
  {
   "cell_type": "code",
   "execution_count": null,
   "id": "c9fd30dc-33e2-4399-9cbf-0aff0ca12f55",
   "metadata": {},
   "outputs": [],
   "source": [
    "table = []\n",
    "with sqldict(kw_histdb) as db:\n",
    "    for url in db:\n",
    "        data = db[url]\n",
    "        histo, stemmed = data\n",
    "        print(url)\n",
    "        table.append(stemmed)\n",
    "        for kw in histo:\n",
    "            print(kw)\n",
    "        print()"
   ]
  },
  {
   "cell_type": "code",
   "execution_count": null,
   "id": "8d5d42a7-9dfb-431b-8152-800cc63a7dbf",
   "metadata": {},
   "outputs": [],
   "source": []
  }
 ],
 "metadata": {
  "kernelspec": {
   "display_name": "Python 3 (ipykernel)",
   "language": "python",
   "name": "python3"
  },
  "language_info": {
   "codemirror_mode": {
    "name": "ipython",
    "version": 3
   },
   "file_extension": ".py",
   "mimetype": "text/x-python",
   "name": "python",
   "nbconvert_exporter": "python",
   "pygments_lexer": "ipython3",
   "version": "3.11.3"
  }
 },
 "nbformat": 4,
 "nbformat_minor": 5
}
