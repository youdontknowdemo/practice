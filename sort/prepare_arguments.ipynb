{
 "cells": [
  {
   "cell_type": "code",
   "execution_count": null,
   "id": "15052bd5-e92a-44a2-8675-75faa45bb73f",
   "metadata": {},
   "outputs": [],
   "source": [
    "from datetime import datetime\n",
    "from dateutil.relativedelta import relativedelta as rd\n",
    "\n",
    "# Typical month ranges for GA APIs\n",
    "months_back = 16\n",
    "dates = []\n",
    "for x in range(months_back):\n",
    "    sd = datetime.now().date().replace(day=1) - rd(months=x)\n",
    "    ed = sd + rd(months=1) - rd(days=1)\n",
    "    sd = sd.strftime(\"%Y-%m-%d\")\n",
    "    ed = ed.strftime(\"%Y-%m-%d\")\n",
    "    dates.append((sd, ed))"
   ]
  },
  {
   "cell_type": "code",
   "execution_count": null,
   "id": "58293d6f-2a1f-4b4e-b29e-dbce9b32554f",
   "metadata": {},
   "outputs": [],
   "source": [
    "dates"
   ]
  },
  {
   "cell_type": "code",
   "execution_count": null,
   "id": "8d7380e8-2dce-4f32-bbe4-7ab204c591fa",
   "metadata": {},
   "outputs": [],
   "source": [
    "import pandas as pd\n",
    "\n",
    "# Get a list of elements\n",
    "df = pd.read_html(\"https://en.wikipedia.org/wiki/List_of_chemical_elements\")[0]\n",
    "df = df.iloc[1:,[2]]\n",
    "df.columns = [\"Elements\"]\n",
    "elements = list(df[\"Elements\"])"
   ]
  },
  {
   "cell_type": "code",
   "execution_count": null,
   "id": "76e976b0-5d5c-461a-82df-d08a2637267a",
   "metadata": {},
   "outputs": [],
   "source": [
    "elements"
   ]
  },
  {
   "cell_type": "code",
   "execution_count": null,
   "id": "1dd44090-3ac6-415f-8a84-2f3ef5a8e6b5",
   "metadata": {},
   "outputs": [],
   "source": [
    "from collections import namedtuple\n",
    "\n",
    "# Make an argument for each element for each date\n",
    "Args = namedtuple(\"Args\", \"id, element, start_date, end_date\")\n",
    "aid = 1\n",
    "table = []\n",
    "for date in dates:\n",
    "    for element in elements:\n",
    "        table.append(Args(aid, element, date[0], date[1]))\n",
    "        aid +=1"
   ]
  },
  {
   "cell_type": "code",
   "execution_count": null,
   "id": "4f4dd4c3-3ef3-49c5-82c3-5961db66dfb6",
   "metadata": {},
   "outputs": [],
   "source": [
    "table"
   ]
  },
  {
   "cell_type": "code",
   "execution_count": null,
   "id": "2121afef-57e4-4a07-be7a-52776d128ed7",
   "metadata": {},
   "outputs": [],
   "source": [
    "from sqlitedict import SqliteDict as sqldict\n",
    "\n",
    "# Populate a key/value database with only keys.\n",
    "with sqldict(\"job.db\") as db:\n",
    "    for arg in table:\n",
    "        db[str(arg)] = None\n",
    "    db.commit()"
   ]
  },
  {
   "cell_type": "code",
   "execution_count": null,
   "id": "6fbb6681-ad59-4c83-b1e1-6df4444bd90e",
   "metadata": {},
   "outputs": [],
   "source": [
    "# Big API-call jobs can now be perfectly wrangled.\n",
    "with sqldict(\"args.db\") as db:\n",
    "    for i, key in enumerate(db):\n",
    "        arg = eval(key)\n",
    "        print(i + 1, arg.id)"
   ]
  },
  {
   "cell_type": "code",
   "execution_count": null,
   "id": "ff4397bf-ac2d-4a9f-88c6-679e4dd9a9bb",
   "metadata": {},
   "outputs": [],
   "source": []
  }
 ],
 "metadata": {
  "kernelspec": {
   "display_name": "Python 3 (ipykernel)",
   "language": "python",
   "name": "python3"
  },
  "language_info": {
   "codemirror_mode": {
    "name": "ipython",
    "version": 3
   },
   "file_extension": ".py",
   "mimetype": "text/x-python",
   "name": "python",
   "nbconvert_exporter": "python",
   "pygments_lexer": "ipython3"
  }
 },
 "nbformat": 4,
 "nbformat_minor": 5
}
