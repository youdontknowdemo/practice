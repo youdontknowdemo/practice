{
 "cells": [
  {
   "cell_type": "code",
   "execution_count": null,
   "id": "1b896e17-53a0-4a92-8659-2eb05dfa8159",
   "metadata": {},
   "outputs": [],
   "source": [
    "import ohawf\n",
    "from apiclient.discovery import build"
   ]
  },
  {
   "cell_type": "code",
   "execution_count": null,
   "id": "511dfb52-f096-4421-8146-0d4b42347297",
   "metadata": {},
   "outputs": [],
   "source": [
    "creds = ohawf.get()"
   ]
  },
  {
   "cell_type": "code",
   "execution_count": null,
   "id": "f693b39f-ff38-451f-bf40-4214cceb8a6c",
   "metadata": {},
   "outputs": [],
   "source": [
    "service = build('searchconsole', 'v1', credentials=creds)"
   ]
  },
  {
   "cell_type": "code",
   "execution_count": null,
   "id": "ac3f7335-8490-423a-b5ed-add17831abb7",
   "metadata": {},
   "outputs": [],
   "source": [
    "sites = service.sites().list().execute()"
   ]
  },
  {
   "cell_type": "code",
   "execution_count": null,
   "id": "afe73a25-9c96-4472-a506-d794a6617f49",
   "metadata": {},
   "outputs": [],
   "source": [
    "for adict in sites[\"siteEntry\"]:\n",
    "    print(f\"Site: {adict['siteUrl']}\")"
   ]
  }
 ],
 "metadata": {
  "kernelspec": {
   "display_name": "Python 3 (ipykernel)",
   "language": "python",
   "name": "python3"
  },
  "language_info": {
   "codemirror_mode": {
    "name": "ipython",
    "version": 3
   },
   "file_extension": ".py",
   "mimetype": "text/x-python",
   "name": "python",
   "nbconvert_exporter": "python",
   "pygments_lexer": "ipython3"
  }
 },
 "nbformat": 4,
 "nbformat_minor": 5
}
