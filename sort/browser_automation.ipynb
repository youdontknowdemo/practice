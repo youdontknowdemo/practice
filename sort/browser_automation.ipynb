{
 "cells": [
  {
   "cell_type": "code",
   "execution_count": null,
   "id": "93a2c8dd-7ab5-4aa2-98a9-445a4eb685ba",
   "metadata": {},
   "outputs": [],
   "source": [
    "%load_ext lab_black"
   ]
  },
  {
   "cell_type": "code",
   "execution_count": null,
   "id": "e4048543-2e74-4004-9338-ec8fd9bd2abb",
   "metadata": {},
   "outputs": [],
   "source": [
    "import asyncio\n",
    "from playwright.async_api import Playwright, async_playwright\n",
    "\n",
    "delay = 5\n",
    "slow_mo = 100\n",
    "headless = False\n",
    "site = \"https://www.google.com/\"\n",
    "\n",
    "# Barebones Chromium without Session Memory\n",
    "async with async_playwright() as playwright:\n",
    "    browser = await playwright.chromium.launch(headless=headless, slow_mo=slow_mo)\n",
    "    page = await browser.new_page()\n",
    "    await page.goto(site)\n",
    "    await asyncio.sleep(delay)\n",
    "    await browser.close()"
   ]
  },
  {
   "cell_type": "code",
   "execution_count": null,
   "id": "7de15887-c87f-497b-95d2-2b09c9378b69",
   "metadata": {},
   "outputs": [],
   "source": [
    "import asyncio\n",
    "from playwright.async_api import Playwright, async_playwright\n",
    "\n",
    "delay = 5\n",
    "slow_mo = 100\n",
    "headless = False\n",
    "site = \"https://www.google.com/\"\n",
    "\n",
    "# Chromium with Session Memory and User Agent Cloaking\n",
    "session_folder = \"session\"\n",
    "ua = \"Mozilla/5.0 (Windows NT 10.0; Win64; x64) AppleWebKit/537.36 (KHTML, like Gecko) Chrome/105.0.0.0 Safari/537.36\"\n",
    "\n",
    "async with async_playwright() as playwright:\n",
    "    browser = await playwright.chromium.launch_persistent_context(\n",
    "        session_folder, headless=headless, slow_mo=slow_mo, user_agent=ua\n",
    "    )\n",
    "    page = await browser.new_page()\n",
    "    await page.goto(site)\n",
    "    await asyncio.sleep(delay)\n",
    "    await browser.close()"
   ]
  },
  {
   "cell_type": "code",
   "execution_count": null,
   "id": "2285c3df-a9ea-4c39-8ff9-ce9df15ded5d",
   "metadata": {},
   "outputs": [],
   "source": [
    "import asyncio\n",
    "from playwright.async_api import Playwright, async_playwright\n",
    "\n",
    "delay = 5\n",
    "slow_mo = 100\n",
    "headless = False\n",
    "site = \"https://www.google.com/\"\n",
    "\n",
    "# Firefox without Session Memory\n",
    "async with async_playwright() as playwright:\n",
    "    browser = await playwright.firefox.launch(headless=headless, slow_mo=slow_mo)\n",
    "    context = await browser.new_context()\n",
    "    page = await context.new_page()\n",
    "    await page.goto(site)\n",
    "    await asyncio.sleep(delay)\n",
    "    await browser.close()"
   ]
  },
  {
   "cell_type": "code",
   "execution_count": null,
   "id": "8f3b81a7-28dc-4b96-bcf0-011deeb063a2",
   "metadata": {},
   "outputs": [],
   "source": [
    "import asyncio\n",
    "from playwright.async_api import Playwright, async_playwright\n",
    "\n",
    "delay = 5\n",
    "slow_mo = 100\n",
    "headless = False\n",
    "site = \"https://www.google.com/\"\n",
    "\n",
    "# Genuine Linux Chrome with Real User Data\n",
    "chrome_exe = \"/usr/bin/google-chrome\"\n",
    "user_data = \"/home/ubuntu/.config/google-chrome/\"\n",
    "downloads_path = \"/home/ubuntu/Downloads\"\n",
    "\n",
    "async with async_playwright() as p:\n",
    "    playwright = await async_playwright().start()\n",
    "    browser = await playwright.chromium.launch_persistent_context(\n",
    "        user_data_dir=user_data,\n",
    "        headless=headless,\n",
    "        accept_downloads=True,\n",
    "        executable_path=chrome_exe,\n",
    "        channel=\"chrome\",\n",
    "        no_viewport=True,\n",
    "        slow_mo=slow_mo,\n",
    "        downloads_path=downloads_path,\n",
    "        # args=[\"--start-maximized\"],\n",
    "    )\n",
    "\n",
    "    page = await browser.new_page()\n",
    "    await page.goto(site)\n",
    "    await asyncio.sleep(delay)\n",
    "    await browser.close()"
   ]
  },
  {
   "cell_type": "code",
   "execution_count": null,
   "id": "71f5a582-565b-4ece-a004-ffbd7129ed91",
   "metadata": {},
   "outputs": [],
   "source": []
  }
 ],
 "metadata": {
  "kernelspec": {
   "display_name": "Python 3 (ipykernel)",
   "language": "python",
   "name": "python3"
  },
  "language_info": {
   "codemirror_mode": {
    "name": "ipython",
    "version": 3
   },
   "file_extension": ".py",
   "mimetype": "text/x-python",
   "name": "python",
   "nbconvert_exporter": "python",
   "pygments_lexer": "ipython3",
   "version": "3.11.2"
  }
 },
 "nbformat": 4,
 "nbformat_minor": 5
}
